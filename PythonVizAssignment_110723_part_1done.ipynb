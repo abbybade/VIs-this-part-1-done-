{
 "cells": [
  {
   "cell_type": "markdown",
   "id": "c591d3ad",
   "metadata": {},
   "source": [
    "# Group Assignment: Data Preparation and Visualization"
   ]
  },
  {
   "cell_type": "markdown",
   "id": "d83a4ff4",
   "metadata": {},
   "source": [
    "## 1. Group members\n",
    "\n",
    "<Add your group members' first and last names here>\n",
    "\n",
    "***"
   ]
  },
  {
   "cell_type": "markdown",
   "id": "40e65dfa",
   "metadata": {},
   "source": [
    "## 2. Contribution report\n",
    "\n",
    "After completing the assignment, please answer the following questions **as a group** by adding your answers within this markdown block.\n",
    "\n",
    "1. In a few sentences, describe each group member's individual contributions to the submission. Be as specific as possible (e.g. coordinated group efforts, specific problems answered, specific problems reviewed/revised, sections of the submission written, etc.).\n",
    "\n",
    "    < Add your responses here>\n",
    "\n",
    "\n",
    "2. In a few sentences, describe what was learned in completing this assignment. In particular, describe what was learned through the **specific individual contributions** mentioned above.\n",
    "    \n",
    "    < Add your responses here>\n",
    "\n",
    "***"
   ]
  },
  {
   "cell_type": "markdown",
   "id": "d5eadb26",
   "metadata": {},
   "source": [
    "## 3. Assignment\n",
    "\n",
    "### Instructions: \n",
    "You will be presented with a scenario and will need to utilize your SQL and python skills to complete this assignment successfully. \n",
    "\n",
    "Put this .ipynb file in the `jupyter_notebooks` folder in your Docker SQLPython Container directory.  Then you will be able to connect to the database and run your code without issue.\n",
    "\n",
    "Each group will submit two files:\n",
    "1. A single Jupyter Notebook (.ipynb).  **You must run all cells before submitting.** This notebook should have all of the relevant visualizations and output displayed properly.  We will restart and run all of the code from this notebook, which should not produce any errors.\n",
    "2. A PDF version (.pdf) of the Jupyter Notebook. This PDF should have all of the relevant visualizations and output displayed properly. "
   ]
  },
  {
   "cell_type": "code",
   "execution_count": 75,
   "id": "1de42dc2",
   "metadata": {},
   "outputs": [
    {
     "name": "stdout",
     "output_type": "stream",
     "text": [
      "postgresql+psycopg2://{username}:{pswd}@{host}:{port}/{database}\n"
     ]
    },
    {
     "data": {
      "text/plain": [
       "[(1, None, 'Arlena', 'Riveles', None, 'ariveles0@stumbleupon.com', 'F', '98.36.172.246', None, None, None, None, None, None, None, datetime.datetime(2017, 4, 23, 0, 0)),\n",
       " (2, 'Dr', 'Ode', 'Stovin', None, 'ostovin1@npr.org', 'M', '16.97.59.186', '314-534-4361', '2573 Fordem Parkway', 'Saint Louis', 'MO', '63116', 38.5814, -90.2625, datetime.datetime(2014, 10, 2, 0, 0))]"
      ]
     },
     "execution_count": 75,
     "metadata": {},
     "output_type": "execute_result"
    }
   ],
   "source": [
    "#run this code first to connect to the database and verify the connection is working\n",
    "## DO NOT MODIFY THIS CODE BLOCK\n",
    "## If you have placed this notebook in the jupyter notebooks folder properly, \n",
    "## this block should return the first two rows of the customers table\n",
    "\n",
    "from sqlalchemy import create_engine\n",
    "import pandas as pd\n",
    "import numpy as np\n",
    "import matplotlib.pyplot as plt\n",
    "import seaborn as sns\n",
    "from IPython.core.interactiveshell import InteractiveShell\n",
    "InteractiveShell.ast_node_interactivity = \"all\"\n",
    "\n",
    "%matplotlib inline\n",
    "\n",
    "cnxn_string = (\"postgresql+psycopg2://{username}:{pswd}\"\n",
    "              \"@{host}:{port}/{database}\")\n",
    "print(cnxn_string)\n",
    "\n",
    "engine = create_engine(cnxn_string.format(\n",
    "    username=\"postgres\",\n",
    "    pswd=\"behappy\",\n",
    "    host=\"postgres\",\n",
    "    port=5432,\n",
    "    database=\"sqlda\"))\n",
    "\n",
    "engine.execute(\"SELECT * FROM customers LIMIT 2;\").fetchall()"
   ]
  },
  {
   "cell_type": "markdown",
   "id": "46d3ef9e",
   "metadata": {},
   "source": [
    "## Scenario \n",
    "\n",
    "You are a team of extremely successful data scientists at a top motor dealership company. You need to create summary tables and visualizations that your boss will present at the next company shareholder meeting.  She has sent you the following e-mail describing what she needs.\n",
    "\n",
    "***\n",
    "From: importantboss@topmotordealershipcompany.com\n",
    "\n",
    "To: datascienceteam@topmotordealershipcompany.com\n",
    "\n",
    "Subject: Data request for shareholder meeting\n",
    "\n",
    "For our next shareholder meeting, we need to provide more information about sales performance across states, across dealerships, and across sales channels.  Please send me information to address the following items for our next shareholder meeting along with your thoughts.\n",
    "\n",
    "1. Sales performance at the state level (top 5 and bottom 5 states)\n",
    "2. For the best performing states, which dealerships are performing well and how are they trending?\n",
    "3. In states with dealerships, how has the distribution of sales amounts changed over time for different channels (internet vs. dealership) and sales types (low, typical, high value)?\n",
    "\n",
    "Thank you!\n",
    "\n",
    "-Important Boss\n",
    "\n",
    "***"
   ]
  },
  {
   "cell_type": "markdown",
   "id": "f0a35e92",
   "metadata": {},
   "source": [
    "Your team promptly comes up with the following plan."
   ]
  },
  {
   "cell_type": "markdown",
   "id": "b2fa35b6",
   "metadata": {},
   "source": [
    "## Part 1: Visualizing the top and bottom performing states\n",
    "\n",
    "1. Write a SELECT query that returns the total sales amount for each state from January 1, 2016 to now.  The table should have two columns, `state` and `total_sales_amount`, with one row for each state ordered by `total_sales_amount` in *descending* order. Make sure that `total_sales_amount` is rounded appropriately.  Attribute sales to states based on the **state in which the customer that made the purchase resides**.  This way we can capture both sales made through dealerships, as well as sales made through our website, in evaluating state-level performance.  \n",
    "\n",
    "\n",
    "2. Use SQLAlchemy to execute the query and store the results in a pandas dataframe called `sales_by_state`.\n",
    "\n",
    "\n",
    "3. Display the rows in `sales_by_state` corresponding to the 5 states with the **largest** total sales amount in *descending* order.\n",
    "\n",
    "\n",
    "4. Display the rows in `sales_by_state` corresponding to the 5 states with the **smallest** total sales amount in *ascending* order.\n",
    "\n",
    "\n",
    "5. Visualize sales performance by state for the top and bottom performing states discovered in 1.3 and 1.4.  You can use more than one visualization.  These should be **presentation ready** (e.g. appropriate and complete titles and axis labels, remove unnecessary/distracting features, display date range for total sales, no overlapping axis labels, etc.). \n",
    "\n",
    "Include the code needed for each component of part 1 in the appropriate code block below."
   ]
  },
  {
   "cell_type": "code",
   "execution_count": 76,
   "id": "342643df",
   "metadata": {},
   "outputs": [],
   "source": [
    "#1.1 SQL query to get total sales amount for each state\n",
    "query_sales_by_state = \"\"\"\n",
    "    SELECT state,ROUND(SUM(sales_amount)::numeric, 3) AS total_sales_amount\n",
    "    FROM sales\n",
    "    JOIN customers USING (customer_id)\n",
    "    WHERE sales_transaction_date >= '2016-01-01'\n",
    "    GROUP BY state\n",
    "    ORDER BY total_sales_amount DESC;\n",
    "\"\"\""
   ]
  },
  {
   "cell_type": "code",
   "execution_count": 77,
   "id": "81539240",
   "metadata": {},
   "outputs": [
    {
     "name": "stdout",
     "output_type": "stream",
     "text": [
      "state                 0\n",
      "total_sales_amount    0\n",
      "dtype: int64\n"
     ]
    }
   ],
   "source": [
    "#1.2 create dataframe\n",
    "sales_by_state = pd.read_sql_query(query_sales_by_state, engine)\n",
    "print(top_five_performing_states.isnull().sum())\n",
    "sales_by_state = sales_by_state.dropna()"
   ]
  },
  {
   "cell_type": "code",
   "execution_count": 78,
   "id": "257adc19",
   "metadata": {},
   "outputs": [
    {
     "name": "stdout",
     "output_type": "stream",
     "text": [
      "Top 5 performing states:\n"
     ]
    },
    {
     "data": {
      "text/html": [
       "<div>\n",
       "<style scoped>\n",
       "    .dataframe tbody tr th:only-of-type {\n",
       "        vertical-align: middle;\n",
       "    }\n",
       "\n",
       "    .dataframe tbody tr th {\n",
       "        vertical-align: top;\n",
       "    }\n",
       "\n",
       "    .dataframe thead th {\n",
       "        text-align: right;\n",
       "    }\n",
       "</style>\n",
       "<table border=\"1\" class=\"dataframe\">\n",
       "  <thead>\n",
       "    <tr style=\"text-align: right;\">\n",
       "      <th></th>\n",
       "      <th>state</th>\n",
       "      <th>total_sales_amount</th>\n",
       "    </tr>\n",
       "  </thead>\n",
       "  <tbody>\n",
       "    <tr>\n",
       "      <th>0</th>\n",
       "      <td>CA</td>\n",
       "      <td>2.251532e+07</td>\n",
       "    </tr>\n",
       "    <tr>\n",
       "      <th>2</th>\n",
       "      <td>TX</td>\n",
       "      <td>2.046075e+07</td>\n",
       "    </tr>\n",
       "    <tr>\n",
       "      <th>3</th>\n",
       "      <td>FL</td>\n",
       "      <td>1.542924e+07</td>\n",
       "    </tr>\n",
       "    <tr>\n",
       "      <th>4</th>\n",
       "      <td>NY</td>\n",
       "      <td>1.146682e+07</td>\n",
       "    </tr>\n",
       "    <tr>\n",
       "      <th>5</th>\n",
       "      <td>PA</td>\n",
       "      <td>7.354694e+06</td>\n",
       "    </tr>\n",
       "  </tbody>\n",
       "</table>\n",
       "</div>"
      ],
      "text/plain": [
       "  state  total_sales_amount\n",
       "0    CA        2.251532e+07\n",
       "2    TX        2.046075e+07\n",
       "3    FL        1.542924e+07\n",
       "4    NY        1.146682e+07\n",
       "5    PA        7.354694e+06"
      ]
     },
     "execution_count": 78,
     "metadata": {},
     "output_type": "execute_result"
    }
   ],
   "source": [
    "#1.3 display top 5 performing states\n",
    "top_five_performing_states = sales_by_state[:5]\n",
    "print(\"Top 5 performing states:\")\n",
    "top_five_performing_states\n"
   ]
  },
  {
   "cell_type": "code",
   "execution_count": 79,
   "id": "c6122d09",
   "metadata": {},
   "outputs": [
    {
     "data": {
      "text/plain": [
       "<Figure size 1000x600 with 0 Axes>"
      ]
     },
     "execution_count": 79,
     "metadata": {},
     "output_type": "execute_result"
    },
    {
     "data": {
      "text/plain": [
       "<BarContainer object of 5 artists>"
      ]
     },
     "execution_count": 79,
     "metadata": {},
     "output_type": "execute_result"
    },
    {
     "data": {
      "text/plain": [
       "Text(0.5, 1.0, 'Top 5 Performing States in Sales Amount')"
      ]
     },
     "execution_count": 79,
     "metadata": {},
     "output_type": "execute_result"
    },
    {
     "data": {
      "text/plain": [
       "Text(0.5, 0, 'States')"
      ]
     },
     "execution_count": 79,
     "metadata": {},
     "output_type": "execute_result"
    },
    {
     "data": {
      "text/plain": [
       "Text(0, 0.5, 'Total Sales Amount')"
      ]
     },
     "execution_count": 79,
     "metadata": {},
     "output_type": "execute_result"
    },
    {
     "data": {
      "image/png": "[encoded data removed]",
      "text/plain": [
       "<Figure size 1000x600 with 1 Axes>"
      ]
     },
     "metadata": {},
     "output_type": "display_data"
    }
   ],
   "source": [
    "#1.4 Visualize top 5 performing states\n",
    "plt.figure(figsize=(10, 6))\n",
    "plt.bar(top_five_performing_states[\"state\"], top_five_performing_states[\"total_sales_amount\"], color='lightblue')\n",
    "plt.title('Top 5 Performing States in Sales Amount')\n",
    "plt.xlabel('States')\n",
    "plt.ylabel('Total Sales Amount')"
   ]
  },
  {
   "cell_type": "code",
   "execution_count": 80,
   "id": "17aa6330",
   "metadata": {},
   "outputs": [
    {
     "name": "stdout",
     "output_type": "stream",
     "text": [
      "Bottom 5 performing states:\n"
     ]
    },
    {
     "data": {
      "text/html": [
       "<div>\n",
       "<style scoped>\n",
       "    .dataframe tbody tr th:only-of-type {\n",
       "        vertical-align: middle;\n",
       "    }\n",
       "\n",
       "    .dataframe tbody tr th {\n",
       "        vertical-align: top;\n",
       "    }\n",
       "\n",
       "    .dataframe thead th {\n",
       "        text-align: right;\n",
       "    }\n",
       "</style>\n",
       "<table border=\"1\" class=\"dataframe\">\n",
       "  <thead>\n",
       "    <tr style=\"text-align: right;\">\n",
       "      <th></th>\n",
       "      <th>state</th>\n",
       "      <th>total_sales_amount</th>\n",
       "    </tr>\n",
       "  </thead>\n",
       "  <tbody>\n",
       "    <tr>\n",
       "      <th>47</th>\n",
       "      <td>SD</td>\n",
       "      <td>145199.458</td>\n",
       "    </tr>\n",
       "    <tr>\n",
       "      <th>48</th>\n",
       "      <td>ME</td>\n",
       "      <td>103364.887</td>\n",
       "    </tr>\n",
       "    <tr>\n",
       "      <th>49</th>\n",
       "      <td>VT</td>\n",
       "      <td>31414.933</td>\n",
       "    </tr>\n",
       "    <tr>\n",
       "      <th>50</th>\n",
       "      <td>RI</td>\n",
       "      <td>8849.841</td>\n",
       "    </tr>\n",
       "    <tr>\n",
       "      <th>51</th>\n",
       "      <td>WY</td>\n",
       "      <td>4699.912</td>\n",
       "    </tr>\n",
       "  </tbody>\n",
       "</table>\n",
       "</div>"
      ],
      "text/plain": [
       "   state  total_sales_amount\n",
       "47    SD          145199.458\n",
       "48    ME          103364.887\n",
       "49    VT           31414.933\n",
       "50    RI            8849.841\n",
       "51    WY            4699.912"
      ]
     },
     "execution_count": 80,
     "metadata": {},
     "output_type": "execute_result"
    }
   ],
   "source": [
    "#1.5 display bottom 5 performing states\n",
    "\n",
    "bottom_five_performing_states = sales_by_state[-5:]\n",
    "print(\"Bottom 5 performing states:\")\n",
    "bottom_five_performing_states"
   ]
  },
  {
   "cell_type": "code",
   "execution_count": 81,
   "id": "b38be871",
   "metadata": {},
   "outputs": [
    {
     "data": {
      "text/plain": [
       "<Figure size 1000x600 with 0 Axes>"
      ]
     },
     "execution_count": 81,
     "metadata": {},
     "output_type": "execute_result"
    },
    {
     "data": {
      "text/plain": [
       "<BarContainer object of 5 artists>"
      ]
     },
     "execution_count": 81,
     "metadata": {},
     "output_type": "execute_result"
    },
    {
     "data": {
      "text/plain": [
       "Text(0.5, 1.0, 'Bottom 5 Performing States in Sales Amount')"
      ]
     },
     "execution_count": 81,
     "metadata": {},
     "output_type": "execute_result"
    },
    {
     "data": {
      "text/plain": [
       "Text(0.5, 0, 'States')"
      ]
     },
     "execution_count": 81,
     "metadata": {},
     "output_type": "execute_result"
    },
    {
     "data": {
      "text/plain": [
       "Text(0, 0.5, 'Total Sales Amount')"
      ]
     },
     "execution_count": 81,
     "metadata": {},
     "output_type": "execute_result"
    },
    {
     "data": {
      "image/png": "[encoded data removed]",
      "text/plain": [
       "<Figure size 1000x600 with 1 Axes>"
      ]
     },
     "metadata": {},
     "output_type": "display_data"
    }
   ],
   "source": [
    "import matplotlib.pyplot as plt\n",
    "\n",
    "# Visualize bottom 5 performing states\n",
    "plt.figure(figsize=(10, 6))\n",
    "plt.bar(bottom_five_performing_states[\"state\"], bottom_five_performing_states[\"total_sales_amount\"], color='blue')\n",
    "plt.title('Bottom 5 Performing States in Sales Amount')\n",
    "plt.xlabel('States')\n",
    "plt.ylabel('Total Sales Amount')\n",
    "#plt.xticks(rotation=45)  \n",
    "plt.show()\n"
   ]
  },
  {
   "cell_type": "markdown",
   "id": "7b3df305",
   "metadata": {},
   "source": [
    "## Part 2: Top performing dealerships\n",
    "\n",
    "Create a table and visualization of historical cumulative sales amounts by dealership from January 1, 2016 to now.  Only include dealerships located in the *top two* states determined in Part 1.  It is OK to reference these two states by their abbreviations (e.g. AL, MS, WY) in the query you will develop below since this is a one-off request.\n",
    "\n",
    "To do this, perform the following steps:\n",
    "    \n",
    "   1. Write a SELECT query that returns three columns: `dealership_id`,`state`,`sales_transaction_date`, and `cumulative_sales`.  `cumulative_sales` represents the cumulative sales amount from January 1, 2016 to the `sales_transaction_date` for dealership identified by `dealership_id`.  There should be a row for each distinct combination of `dealership_id` and `sales_transaction_date` in the `sales` table (*hint*: window function).\n",
    "    \n",
    "    \n",
    "   2. Use SQLAlchemy to execute the query and store the results in a pandas dataframe called `cumulative_sales_bydealership`.\n",
    "    \n",
    "    \n",
    "   3. Appropriately visualize historical cumulative sales by dealership across sales transaction dates *in a single plot* (*hint*: seaborn). Visualization should be **presentation ready** (e.g. appropriate and complete titles and legend/axis labels, remove unnecessary/distracting features, display date range for total sales, no overlapping axis labels, integer-valued dealership IDs, states indicated clearly, variable names like `dealership_id` and `state` are replaced with appropriate text like 'ID' and 'State', etc.). "
   ]
  },
  {
   "cell_type": "code",
   "execution_count": 82,
   "id": "aa2e82c9",
   "metadata": {},
   "outputs": [],
   "source": [
    "#2.1\n"
   ]
  },
  {
   "cell_type": "code",
   "execution_count": 8,
   "id": "3bef8b9a",
   "metadata": {},
   "outputs": [],
   "source": [
    "#2.2\n"
   ]
  },
  {
   "cell_type": "code",
   "execution_count": 9,
   "id": "d8d935e2",
   "metadata": {},
   "outputs": [],
   "source": [
    "#2.3\n"
   ]
  },
  {
   "cell_type": "markdown",
   "id": "8c66a03d",
   "metadata": {},
   "source": [
    "## Part 3: Sales amount by sales channel and sales type\n",
    "\n",
    "Create tables and visualizations to compare sales amounts by sales channel for sales made on or after January 1, 2016 and before January 1, 2019.  **Only include sales made to customers that reside in a state that has a dealership.** To do this, perform the following steps:\n",
    "    \n",
    "   1. Write a SELECT query that returns sales with a transaction date on or after January 1, 2016 and before January 1, 2019 from the `sales` table made to customers that reside in a state that has a dealership.  This table should have the following four columns: `channel`,`sales_amount`, and `sales_type` and `sales_year`. `channel` and `sales_amount` are exactly as appears in the `sales` table. `sales_type` is a derived categorical field that takes on a value of `'High value'` when `sales_amount` is above 50000, `'Typical value'` when `sales_amount` is above 10000 but less than or equal to 50000, and `'Low value'` when `sales_amount` is less than 10000.  `sales_year` is the year from the `sales_transaction_date` field.  \n",
    "   \n",
    "   \n",
    "   2. Use SQLAlchemy to execute the query and store the results in a pandas dataframe called `sales_from_dealershipstates`.\n",
    "   \n",
    "   \n",
    "   3. Appropriately visualize the distribution of sales amounts and how it changes by `channel`, `sales_year`, and `sales_type`.  To do this, create multiple plots, one for each distinct combination of `channel` and `sales_type`.  For each plot, visualize and compare the distribution of sales amounts for each sales year (2016, 2017, 2018) by superimposing these yearly distributions on the same plot.  For example, one plot will visualize distribution of sales amounts in 2016, 2017, and 2018 for low value internet sales.  Arrange the plots so that you can see changes across `channel` and `sales_type` (*Hint: seaborn.FacetGrid*). Visualizations should be **presentation ready** (e.g. appropriate and complete titles and legend/axis labels, remove unnecessary/distracting features, display date range for total sales, no overlapping axis labels, replace variable names like `sales_year` with appropriate text like 'Year', etc.). "
   ]
  },
  {
   "cell_type": "code",
   "execution_count": 10,
   "id": "2cd52002",
   "metadata": {},
   "outputs": [],
   "source": [
    "#3.1 select query\n"
   ]
  },
  {
   "cell_type": "code",
   "execution_count": 11,
   "id": "f2bdc9f4",
   "metadata": {},
   "outputs": [],
   "source": [
    "#3.2 create data frame\n"
   ]
  },
  {
   "cell_type": "code",
   "execution_count": 12,
   "id": "4915ce52",
   "metadata": {},
   "outputs": [],
   "source": [
    "#3.3 visualization\n"
   ]
  },
  {
   "cell_type": "markdown",
   "id": "421b0c9b",
   "metadata": {},
   "source": [
    "\n",
    "## Part 4: Takeaways from the analysis\n",
    "\n",
    "Provide your thoughts about the analysis above by answering the following questions in the blank markdown cells provided below. No code should be run for this section.\n",
    "\n",
    "\n",
    "   1. (Part 1) What are some potential hypotheses as to why the top 5 performing states have the highest sales amounts?  Describe how you would test your hypotheses in further analysis.  Do not conduct any additional analyses or write any more queries, just describe in words.\n",
    "   \n",
    "   \n",
    "          \n",
    "          \n",
    "   2. (Part 1) What are some potential hypotheses as to why the bottom 5 performing states have the lowest sales amounts?  Describe how you would test your hypotheses in further analysis.  Do not conduct any additional analyses or write any more queries, just describe in words.\n",
    "   \n",
    "   \n",
    "   3. (Part 2): How would you characterize the historical performance of the dealerships visualized in Part 2 (e.g. good, bad, growing, declining, etc.)?  Describe some of the trends in relative performance over time for the dealerships.  Be specific and cite specific elements of the visualization created in Part 2 to support your claims.  Specify any additional factors you would want to consider that would influence your performance assessment. \n",
    "     \n",
    "     \n",
    "   4. (Part 3):  How does the distribution of sales amounts change from one year to the next for each channel and sale type?  Are the number of transactions for certain channels and sales types increasing or decreasing over time?  For each sale type and channel, is the distribution of sales amounts changing over time (e.g. Are the typical sales amounts for low value internet sales shifting from 2016 to 2018? If so, how are the values shifting over time?)  Be specific and cite specific elements of the visualization created in Part 3 to support your claims. \n",
    "   \n",
    "   \n",
    "   5. (Part 3): What are some potential hypotheses as to why the distribution of sales amounts compared across channel, year, and sales type behaves in the manner you described in 4.4?  Describe how you would test your hypotheses in further analysis.  Do not conduct any additional analyses or write any more queries, just describe in words."
   ]
  },
  {
   "cell_type": "markdown",
   "id": "03d3e7ac",
   "metadata": {},
   "source": [
    "### Part 4 Responses"
   ]
  },
  {
   "cell_type": "markdown",
   "id": "c01e7635",
   "metadata": {},
   "source": [
    "For each of the following questions, answer in as much preciseness and clarity that you can. Refer back to the tables and plots that you have created to back up your answers if necessary. Answer each question in the cell below. You are NOT to code anything for this section. This is for you to reflect on the analysis developed in response to Parts 1-3."
   ]
  },
  {
   "cell_type": "markdown",
   "id": "837c37b2",
   "metadata": {},
   "source": [
    "1. (Part 1) What are some potential hypotheses as to why the top 5 performing states have the highest sales amounts?  Describe how you would test your hypotheses in further analysis.  Do not conduct any additional analyses or write any more queries, just describe in words."
   ]
  },
  {
   "cell_type": "markdown",
   "id": "3c4f0c3b",
   "metadata": {},
   "source": []
  },
  {
   "cell_type": "markdown",
   "id": "68b5e379",
   "metadata": {},
   "source": [
    " 2. (Part 1) What are some potential hypotheses as to why the bottom 5 performing states have the lowest sales amounts?  Describe how you would test your hypotheses in further analysis.  Do not conduct any additional analyses or write any more queries, just describe in words."
   ]
  },
  {
   "cell_type": "markdown",
   "id": "f5bf8038",
   "metadata": {},
   "source": []
  },
  {
   "cell_type": "markdown",
   "id": "a2dc1d0a",
   "metadata": {},
   "source": [
    "3. (Part 2): How would you characterize the historical performance of the dealerships visualized in Part 2 (e.g. good, bad, growing, declining, etc.)?  Describe some of the trends in relative performance over time for the dealerships.  Be specific and cite specific elements of the visualization created in Part 2 to support your claims.  Specify any additional factors you would want to consider that could influence your performance assessment. \n"
   ]
  },
  {
   "cell_type": "markdown",
   "id": "abc8719c",
   "metadata": {},
   "source": []
  },
  {
   "cell_type": "markdown",
   "id": "1568c480",
   "metadata": {},
   "source": [
    " 4. (Part 3):  How does the distribution of sales amounts change from one year to the next for each channel and sale type?  Are the number of transactions for certain channels and sales types increasing or decreasing over time?  For each sale type and channel, is the distribution of sales amounts changing over time (e.g. Are the typical sales amounts for low value internet sales shifting from 2016 to 2018? If so, how are the values shifting over time?)  Be specific and cite specific elements of the visualization created in Part 3 to support your claims. "
   ]
  },
  {
   "cell_type": "markdown",
   "id": "045e8abe",
   "metadata": {},
   "source": []
  },
  {
   "cell_type": "markdown",
   "id": "721fe160",
   "metadata": {},
   "source": [
    "5. (Part 3): What are some potential hypotheses as to why the distribution of sales amounts compared across channel, year, and sales type behaves in the manner you described in 4.4?  Describe how you would test your hypotheses in further analysis.  Do not conduct any additional analyses or write any more queries, just describe in words."
   ]
  },
  {
   "cell_type": "markdown",
   "id": "ae8cd758",
   "metadata": {},
   "source": []
  }
 ],
 "metadata": {
  "kernelspec": {
   "display_name": "Python 3 (ipykernel)",
   "language": "python",
   "name": "python3"
  },
  "language_info": {
   "codemirror_mode": {
    "name": "ipython",
    "version": 3
   },
   "file_extension": ".py",
   "mimetype": "text/x-python",
   "name": "python",
   "nbconvert_exporter": "python",
   "pygments_lexer": "ipython3",
   "version": "3.10.9"
  }
 },
 "nbformat": 4,
 "nbformat_minor": 5
}
